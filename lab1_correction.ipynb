{
  "cells": [
    {
      "cell_type": "markdown",
      "metadata": {
        "id": "view-in-github",
        "colab_type": "text"
      },
      "source": [
        "<a href=\"https://colab.research.google.com/github/matthieubarral-ai/matthieurepo/blob/main/lab1_correction.ipynb\" target=\"_parent\"><img src=\"https://colab.research.google.com/assets/colab-badge.svg\" alt=\"Open In Colab\"/></a>"
      ]
    },
    {
      "cell_type": "markdown",
      "metadata": {
        "id": "pzmELagFuB2W"
      },
      "source": [
        "# Exercise 1.\n",
        "* Write a function that determines if a year (given as parameter) is a leap year or not.\n",
        "    * The function should return a Boolean value.\n",
        "    * A year is a leap year if it is divisible by 4, unless it is also divisible by 100, with the exception that a year divisible by 400 is a leap year."
      ]
    },
    {
      "cell_type": "code",
      "execution_count": null,
      "metadata": {
        "id": "BdMka8ZsuB2b"
      },
      "outputs": [],
      "source": [
        "def is_leap_year(year): # Defining function\n",
        "    if year%4==0 and not year%100==0: # A leap year is divisible by 4 and not by 100\n",
        "        return True\n",
        "    elif year%400==0: # Or it is divisible by 400\n",
        "        return True\n",
        "    else:\n",
        "        return False # If we reach that line, the year is not a leap year\n",
        "\n",
        "def is_leap_year_shorter(year): # shorter version of that function\n",
        "    if (year%4==0 and not year%100==0) or (year%400==0):\n",
        "        return True\n",
        "    else:\n",
        "        return False\n",
        "\n",
        "def is_leap_year_shortest(year): # shortest version of that function\n",
        "    return (year%4==0 and not year%100==0) or (year%400==0)"
      ]
    },
    {
      "cell_type": "markdown",
      "metadata": {
        "id": "TcgnnC0DuB2f"
      },
      "source": [
        "### Testing the functions"
      ]
    },
    {
      "cell_type": "code",
      "execution_count": null,
      "metadata": {
        "id": "MMzOSL0juB2g",
        "outputId": "9124d532-1b95-4190-f69b-b513e81f34d0"
      },
      "outputs": [
        {
          "name": "stdout",
          "output_type": "stream",
          "text": [
            "Long version: 1904 is a leap year\n",
            "Shorter version: 1904 is a leap year\n",
            "Shortest version: 1904 is a leap year\n",
            "Long version: 1908 is a leap year\n",
            "Shorter version: 1908 is a leap year\n",
            "Shortest version: 1908 is a leap year\n",
            "Long version: 1912 is a leap year\n",
            "Shorter version: 1912 is a leap year\n",
            "Shortest version: 1912 is a leap year\n",
            "Long version: 1916 is a leap year\n",
            "Shorter version: 1916 is a leap year\n",
            "Shortest version: 1916 is a leap year\n",
            "Long version: 1920 is a leap year\n",
            "Shorter version: 1920 is a leap year\n",
            "Shortest version: 1920 is a leap year\n",
            "Long version: 1924 is a leap year\n",
            "Shorter version: 1924 is a leap year\n",
            "Shortest version: 1924 is a leap year\n"
          ]
        }
      ],
      "source": [
        "for y in range(1900,1925):\n",
        "    if (is_leap_year(y)):\n",
        "        print(\"Long version: {} is a leap year\".format(y))\n",
        "    if (is_leap_year_shorter(y)):\n",
        "        print(\"Shorter version: {} is a leap year\".format(y))\n",
        "    if (is_leap_year_shortest(y)):\n",
        "        print(\"Shortest version: {} is a leap year\".format(y))\n"
      ]
    },
    {
      "cell_type": "markdown",
      "metadata": {
        "id": "8_Erm1jxuB2h"
      },
      "source": [
        "# Exercise 2.\n",
        "* Write a function that takes two lists of integers as parameters, representing intervals.\n",
        "    * The function must check that each list contains exactly 2 elements, and computes the union of the two intervals.\n"
      ]
    },
    {
      "cell_type": "code",
      "execution_count": null,
      "metadata": {
        "id": "6SZMFYgpuB2i"
      },
      "outputs": [],
      "source": [
        "\n",
        "def union_intervals(interA, interB):\n",
        "    result = \"\"\n",
        "    assert (len(interA)==2) and (len(interB)==2), \"Intervals should have size 2\"\n",
        "    if (interA[0]>interB[0]): # Let's switch intervals\n",
        "        tmp = interA # save values of list A\n",
        "        interA = interB\n",
        "        interB = tmp\n",
        "    if (interA[1]>interB[1]): # In that case, interval A encompasses interval B so we return interval A\n",
        "        result = \"[{},{}]\".format(interA[0],interA[1])\n",
        "    elif (interA[1]>=interB[0]): # In that case, there is an intersection between intervals A and B\n",
        "        result = \"[{},{}]\".format(interA[0],interB[1])\n",
        "    else: # In that case, there is no intersection and we return the union of the two intervals\n",
        "        result = \"[{},{}] U [{},{}]\".format(interA[0],interA[1], interB[0],interB[1])\n",
        "    return result\n"
      ]
    },
    {
      "cell_type": "markdown",
      "metadata": {
        "id": "7Hhp1vfkuB2j"
      },
      "source": [
        "### Testing the function"
      ]
    },
    {
      "cell_type": "code",
      "execution_count": null,
      "metadata": {
        "id": "LihLlrxvuB2k",
        "outputId": "c14ea3c2-230c-4469-fe5f-dbbfbabea2f6"
      },
      "outputs": [
        {
          "name": "stdout",
          "output_type": "stream",
          "text": [
            "Union of [1,4] and [3,9]:  [1,9]\n",
            "Union of [1,8] and [3,4]:  [1,8]\n",
            "Union of [1,3] and [4,8]:  [1,3] U [4,8]\n"
          ]
        }
      ],
      "source": [
        "print(\"Union of [1,4] and [3,9]: \",union_intervals([1,4],[3,9]))\n",
        "print(\"Union of [1,8] and [3,4]: \",union_intervals([1,8],[3,4]))\n",
        "print(\"Union of [1,3] and [4,8]: \",union_intervals([1,3],[4,8]))"
      ]
    },
    {
      "cell_type": "code",
      "execution_count": null,
      "metadata": {
        "id": "e4UgbX7-uB2l",
        "outputId": "f57ea5b3-6d39-4cbf-83e3-aca4168a9c65"
      },
      "outputs": [
        {
          "ename": "AssertionError",
          "evalue": "Intervals should have size 2",
          "output_type": "error",
          "traceback": [
            "\u001b[0;31m---------------------------------------------------------------------------\u001b[0m",
            "\u001b[0;31mAssertionError\u001b[0m                            Traceback (most recent call last)",
            "Input \u001b[0;32mIn [29]\u001b[0m, in \u001b[0;36m<cell line: 1>\u001b[0;34m()\u001b[0m\n\u001b[0;32m----> 1\u001b[0m \u001b[43munion_intervals\u001b[49m\u001b[43m(\u001b[49m\u001b[43m[\u001b[49m\u001b[38;5;241;43m1\u001b[39;49m\u001b[43m,\u001b[49m\u001b[38;5;241;43m2\u001b[39;49m\u001b[43m,\u001b[49m\u001b[38;5;241;43m3\u001b[39;49m\u001b[43m]\u001b[49m\u001b[43m,\u001b[49m\u001b[43m \u001b[49m\u001b[43m[\u001b[49m\u001b[38;5;241;43m4\u001b[39;49m\u001b[43m,\u001b[49m\u001b[38;5;241;43m5\u001b[39;49m\u001b[43m]\u001b[49m\u001b[43m)\u001b[49m\n",
            "Input \u001b[0;32mIn [28]\u001b[0m, in \u001b[0;36munion_intervals\u001b[0;34m(interA, interB)\u001b[0m\n\u001b[1;32m      3\u001b[0m \u001b[38;5;28;01mdef\u001b[39;00m \u001b[38;5;21munion_intervals\u001b[39m(interA, interB):\n\u001b[1;32m      4\u001b[0m     result \u001b[38;5;241m=\u001b[39m \u001b[38;5;124m\"\u001b[39m\u001b[38;5;124m\"\u001b[39m\n\u001b[0;32m----> 5\u001b[0m     \u001b[38;5;28;01massert\u001b[39;00m (\u001b[38;5;28mlen\u001b[39m(interA)\u001b[38;5;241m==\u001b[39m\u001b[38;5;241m2\u001b[39m) \u001b[38;5;129;01mand\u001b[39;00m (\u001b[38;5;28mlen\u001b[39m(interB)\u001b[38;5;241m==\u001b[39m\u001b[38;5;241m2\u001b[39m), \u001b[38;5;124m\"\u001b[39m\u001b[38;5;124mIntervals should have size 2\u001b[39m\u001b[38;5;124m\"\u001b[39m\n\u001b[1;32m      6\u001b[0m     \u001b[38;5;28;01mif\u001b[39;00m (interA[\u001b[38;5;241m0\u001b[39m]\u001b[38;5;241m>\u001b[39minterB[\u001b[38;5;241m0\u001b[39m]): \u001b[38;5;66;03m# Let's switch intervals\u001b[39;00m\n\u001b[1;32m      7\u001b[0m         tmp \u001b[38;5;241m=\u001b[39m copy\u001b[38;5;241m.\u001b[39mdeepcopy(interA) \u001b[38;5;66;03m# save values of list A\u001b[39;00m\n",
            "\u001b[0;31mAssertionError\u001b[0m: Intervals should have size 2"
          ]
        }
      ],
      "source": [
        "union_intervals([1,2,3], [4,5])"
      ]
    },
    {
      "cell_type": "markdown",
      "metadata": {
        "id": "0jnIvecpuB2n"
      },
      "source": [
        "# Exercise 3.\n",
        "* Write a function that determines if a number given as parameter is a perfect number.\n",
        "    * A perfect number is a positive integer equal to the sum of its positive proper divisors (divisors excluding the number itself)."
      ]
    },
    {
      "cell_type": "code",
      "execution_count": null,
      "metadata": {
        "id": "aRC0pC83uB2o"
      },
      "outputs": [],
      "source": [
        "def is_perfect_number(nb):\n",
        "    sum_div = 0  # Initialize a sum to 0\n",
        "    for elt in range(1,nb): # Iterate from one to nb-1\n",
        "        if nb%elt == 0:\n",
        "            sum_div+=elt # Add elt to the sum of divisors. sumdiv+=elt is the same as sumdiv = sumdiv + elt\n",
        "    return sum_div==nb"
      ]
    },
    {
      "cell_type": "markdown",
      "metadata": {
        "id": "sSMqnMoMuB2p"
      },
      "source": [
        "### Testing the function"
      ]
    },
    {
      "cell_type": "code",
      "execution_count": null,
      "metadata": {
        "id": "gg2yjdSMuB2p",
        "outputId": "33637447-2368-4090-c87a-c24fbdaad219"
      },
      "outputs": [
        {
          "name": "stdout",
          "output_type": "stream",
          "text": [
            "6 is a perfect number\n",
            "28 is a perfect number\n",
            "496 is a perfect number\n",
            "8128 is a perfect number\n"
          ]
        }
      ],
      "source": [
        "for n in range(1,40000):\n",
        "    if (is_perfect_number(n)):\n",
        "        print(\"{} is a perfect number\".format(n))"
      ]
    },
    {
      "cell_type": "markdown",
      "metadata": {
        "id": "FUoDMaIzuB2q"
      },
      "source": [
        "# Exercise 4.\n",
        "* Write a function that returns the min and max values of a list given as parameter."
      ]
    },
    {
      "cell_type": "code",
      "execution_count": null,
      "metadata": {
        "id": "s4w1ObYTuB2q"
      },
      "outputs": [],
      "source": [
        "def min_and_max(l):\n",
        "    assert len(l)>0, \"The list must contain at least one element\" # make sure that the list has elements\n",
        "    minv = l[0] #intialize minv and maxv with the first element\n",
        "    maxv = l[0]\n",
        "\n",
        "    for elt in l: # iterate over the elements of the list\n",
        "        if elt<minv:\n",
        "            minv = elt\n",
        "        elif elt>maxv:\n",
        "            maxv = elt\n",
        "    return minv, maxv    # return min and max values"
      ]
    },
    {
      "cell_type": "markdown",
      "metadata": {
        "id": "p4JuJRoQuB2r"
      },
      "source": [
        "### Testing the function"
      ]
    },
    {
      "cell_type": "code",
      "execution_count": null,
      "metadata": {
        "id": "GEakdiCQuB2s",
        "outputId": "ef6c000e-479f-460f-c6fd-ed191179afc1"
      },
      "outputs": [
        {
          "name": "stdout",
          "output_type": "stream",
          "text": [
            "Min value:  1\n",
            "Max value:  16\n"
          ]
        }
      ],
      "source": [
        "l = [5,1,16,7,8]\n",
        "minv, maxv = min_and_max(l)\n",
        "print(\"Min value: \", minv)\n",
        "print(\"Max value: \", maxv)"
      ]
    },
    {
      "cell_type": "markdown",
      "metadata": {
        "id": "ZUQd0eMQuB2t"
      },
      "source": [
        "# Exercise 5.\n",
        "* Write a function that checks if a list given as parameter is a Fibonacci sequence."
      ]
    },
    {
      "cell_type": "code",
      "execution_count": null,
      "metadata": {
        "id": "dyS__p0GuB2t"
      },
      "outputs": [],
      "source": [
        "# With a for loop\n",
        "def is_fibonacci(l): # it is a fibonacci sequence if l[i] = l[i-1]+l[i-2]\n",
        "    if (len(l)<3):\n",
        "        return False # if less than 3 elements, it cannot be a Fibonacci sequence\n",
        "    for i in range(2, len(l)):\n",
        "        if (l[i]!=l[i-1]+l[i-2]):\n",
        "            return False # the condition is not respected, we exit the function and return False\n",
        "    return True # If we iterate through the whole list and the condition holds, then it is a Fibonacci sequence\n",
        "\n",
        "# With a while loop\n",
        "def is_fibonacci_while(l):\n",
        "    if (len(l)<3):\n",
        "        return False\n",
        "    i=2\n",
        "    while i<len(l) and l[i]==l[i-1]+l[i-2]:\n",
        "        i = i + 1 # Look at the next element while the condition holds\n",
        "\n",
        "    if i == len(l): # We have looked at all elements and the condition holds\n",
        "        return True\n",
        "    else: # i is still less than len(l), which means that the condition does not hold for some i value\n",
        "        return False\n"
      ]
    },
    {
      "cell_type": "markdown",
      "metadata": {
        "id": "zJOOiA35uB2t"
      },
      "source": [
        "### Testing the function"
      ]
    },
    {
      "cell_type": "code",
      "execution_count": null,
      "metadata": {
        "id": "Zk0dQNWxuB2t",
        "outputId": "484dd94c-ef48-4f1b-c2ed-58c9f9dbc07f"
      },
      "outputs": [
        {
          "name": "stdout",
          "output_type": "stream",
          "text": [
            "Testing with a Fibonacci sequence ('for' version): True\n",
            "Testing with a random sequence ('for' version): False\n",
            "Testing with a Fibonacci sequence ('while' version): True\n",
            "Testing with a random sequence ('while' version): False\n"
          ]
        }
      ],
      "source": [
        "l_true = [0,1,1,2,3,5,8,13]\n",
        "l_false = [0,1,1,2,3,6,9]\n",
        "\n",
        "print(\"Testing with a Fibonacci sequence ('for' version):\",is_fibonacci(l_true))\n",
        "print(\"Testing with a random sequence ('for' version):\",is_fibonacci(l_false))\n",
        "print(\"Testing with a Fibonacci sequence ('while' version):\",is_fibonacci_while(l_true))\n",
        "print(\"Testing with a random sequence ('while' version):\",is_fibonacci_while(l_false))"
      ]
    },
    {
      "cell_type": "markdown",
      "metadata": {
        "id": "-edS0p0JuB2v"
      },
      "source": [
        "# Exercise 6.\n",
        "* Write a function that takes as input a two-dimensional list and computes the average for each row in the list.\n",
        "    * The function should return a list containing the average value of each row."
      ]
    },
    {
      "cell_type": "code",
      "execution_count": null,
      "metadata": {
        "id": "KmLKSZgNuB2v"
      },
      "outputs": [],
      "source": [
        "def average_per_line(l):\n",
        "    avg_per_line = []  # Initialize a list that will contain the avg values of each line in the matrix\n",
        "    for line in l: # Look at each line\n",
        "        avg = 0  # Initialize a variable that will compute the average of that line\n",
        "        for v in line:\n",
        "            avg += v # this is equivalent to avg = avg + v\n",
        "        avg = avg/len(line) # Compute the average by dividing by the length of the current line\n",
        "        avg_per_line.append(avg) # Add the result to the list of average values per line\n",
        "    return avg_per_line"
      ]
    },
    {
      "cell_type": "markdown",
      "metadata": {
        "id": "YWz_ZS0_uB2v"
      },
      "source": [
        "### Testing the function"
      ]
    },
    {
      "cell_type": "code",
      "execution_count": null,
      "metadata": {
        "id": "xJsMam6ZuB2v",
        "outputId": "0cb1971d-b45a-43a6-f2fa-7ad5eb2aa309"
      },
      "outputs": [
        {
          "name": "stdout",
          "output_type": "stream",
          "text": [
            "Two dimensional list: [[1, 2, 3], [4, 5, 6], [7, 8, 9]]\n",
            "Average per line of the list: [2.0, 5.0, 8.0]\n"
          ]
        }
      ],
      "source": [
        "l = [[1,2,3],\n",
        "     [4,5,6],\n",
        "     [7,8,9]]\n",
        "\n",
        "print(\"Two dimensional list:\", l)\n",
        "print(\"Average per line of the list:\", average_per_line(l))"
      ]
    }
  ],
  "metadata": {
    "kernelspec": {
      "display_name": "Python 3",
      "language": "python",
      "name": "python3"
    },
    "language_info": {
      "codemirror_mode": {
        "name": "ipython",
        "version": 3
      },
      "file_extension": ".py",
      "mimetype": "text/x-python",
      "name": "python",
      "nbconvert_exporter": "python",
      "pygments_lexer": "ipython3",
      "version": "3.8.10"
    },
    "colab": {
      "provenance": [],
      "include_colab_link": true
    }
  },
  "nbformat": 4,
  "nbformat_minor": 0
}