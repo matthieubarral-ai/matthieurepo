{
  "nbformat": 4,
  "nbformat_minor": 0,
  "metadata": {
    "colab": {
      "provenance": [],
      "authorship_tag": "ABX9TyM0WKI4rSraFH52ngcqzQCV",
      "include_colab_link": true
    },
    "kernelspec": {
      "name": "python3",
      "display_name": "Python 3"
    },
    "language_info": {
      "name": "python"
    }
  },
  "cells": [
    {
      "cell_type": "markdown",
      "metadata": {
        "id": "view-in-github",
        "colab_type": "text"
      },
      "source": [
        "<a href=\"https://colab.research.google.com/github/matthieubarral-ai/matthieurepo/blob/main/lab1.ipynb\" target=\"_parent\"><img src=\"https://colab.research.google.com/assets/colab-badge.svg\" alt=\"Open In Colab\"/></a>"
      ]
    },
    {
      "cell_type": "markdown",
      "source": [
        "# Lab 1 - Python for finance\n",
        "## Matthieu BARRAL\n"
      ],
      "metadata": {
        "id": "L7gF3PGlG5q7"
      }
    },
    {
      "cell_type": "markdown",
      "source": [
        "Write a function that determines if a year (given as parameter) is a leap year or not.\n",
        "The function should return a Boolean value.\n",
        "A year is a leap year if it is divisible by 4, unless it is also divisible by 100, with the exception that a year divisible by 400 is a leap year."
      ],
      "metadata": {
        "id": "wIA69R8dIC9P"
      }
    },
    {
      "cell_type": "code",
      "source": [
        "def is_leap_year(year: int) -> bool:\n",
        "    \"\"\"\n",
        "    Détermine si une année est bissextile.\n",
        "\n",
        "    Paramètres :\n",
        "        year (int): L'année à tester.\n",
        "\n",
        "    Retourne :\n",
        "        bool: True si bissextile, False sinon.\n",
        "    \"\"\"\n",
        "    if year % 400 == 0:\n",
        "        return True\n",
        "    elif year % 100 == 0:\n",
        "        return False\n",
        "    elif year % 4 == 0:\n",
        "        return True\n",
        "    else:\n",
        "        return False\n",
        "\n",
        "\n",
        "# Exemple d'utilisation\n",
        "print(is_leap_year(2020))  # True\n",
        "print(is_leap_year(1900))  # False\n",
        "print(is_leap_year(2000))  # True\n",
        "print(is_leap_year(2023))  # False\n"
      ],
      "metadata": {
        "colab": {
          "base_uri": "https://localhost:8080/"
        },
        "id": "Ku7lVVLHIIZX",
        "outputId": "e20bfad2-6ec0-4881-afb9-3c0955ed3f4e"
      },
      "execution_count": null,
      "outputs": [
        {
          "output_type": "stream",
          "name": "stdout",
          "text": [
            "True\n",
            "False\n",
            "True\n",
            "False\n"
          ]
        }
      ]
    },
    {
      "cell_type": "markdown",
      "source": [
        "Write a function that takes two lists of integers as parameters, representing intervals.\n",
        "The function must check that each list contains exactly 2 elements, and computes the union of the two intervals."
      ],
      "metadata": {
        "id": "AYbhqLioPwiD"
      }
    },
    {
      "cell_type": "code",
      "source": [],
      "metadata": {
        "id": "TXhFdYnQjP-u"
      },
      "execution_count": null,
      "outputs": []
    },
    {
      "cell_type": "markdown",
      "source": [],
      "metadata": {
        "id": "9XKKafsujdRC"
      }
    },
    {
      "cell_type": "code",
      "source": [
        "def union_intervals(interval1, interval2):\n",
        "    \"\"\"\n",
        "    Calcule l'union de deux intervalles donnés sous forme de listes de deux entiers.\n",
        "\n",
        "    Paramètres :\n",
        "        interval1 (list): [start1, end1]\n",
        "        interval2 (list): [start2, end2]\n",
        "\n",
        "    Retourne :\n",
        "        list: [start_union, end_union] représentant l'union des intervalles.\n",
        "        None: si les intervalles ne sont pas valides.\n",
        "    \"\"\"\n",
        "    # Vérification que chaque intervalle contient exactement 2 éléments\n",
        "    if len(interval1) != 2 or len(interval2) != 2:\n",
        "        print(\"Erreur : chaque intervalle doit contenir exactement 2 éléments.\")\n",
        "        return None\n",
        "\n",
        "    # Calcul de l'union : le début le plus petit et la fin la plus grande\n",
        "    start_union = min(interval1[0], interval2[0])\n",
        "    end_union = max(interval1[1], interval2[1])\n",
        "\n",
        "    return [start_union, end_union]\n",
        "\n",
        "# Exemple d'utilisation\n",
        "print(union_intervals([1, 5], [3, 8]))  # [1, 8]\n",
        "print(union_intervals([10, 15], [5, 12]))  # [5, 15]\n",
        "print(union_intervals([2], [3, 6]))  # None avec message d'erreur\n"
      ],
      "metadata": {
        "colab": {
          "base_uri": "https://localhost:8080/"
        },
        "id": "RNwS9hhNP4a5",
        "outputId": "5d534094-db0a-4cfb-edf3-2069c1a634ff"
      },
      "execution_count": null,
      "outputs": [
        {
          "output_type": "stream",
          "name": "stdout",
          "text": [
            "[1, 8]\n",
            "[5, 15]\n",
            "Erreur : chaque intervalle doit contenir exactement 2 éléments.\n",
            "None\n"
          ]
        }
      ]
    },
    {
      "cell_type": "markdown",
      "source": [
        "Write a function that determines if a number given as parameter is a perfect number.\n",
        "A perfect number is a positive integer equal to the sum of its positive proper divisors (divisors excluding the number itself)"
      ],
      "metadata": {
        "id": "tc3vn_2yjSZT"
      }
    },
    {
      "cell_type": "code",
      "source": [
        "def is_perfect_number(n):\n",
        "    \"\"\"\n",
        "    Détermine si un nombre est un nombre parfait.\n",
        "\n",
        "    Paramètres :\n",
        "        n (int): Le nombre à tester.\n",
        "\n",
        "    Retourne :\n",
        "        bool: True si le nombre est parfait, False sinon.\n",
        "    \"\"\"\n",
        "    # Vérification que n est un entier positif\n",
        "    if n <= 0:\n",
        "        return False\n",
        "\n",
        "    # Calcul de la somme des diviseurs propres\n",
        "    sum_divisors = 0\n",
        "    for i in range(1, n):\n",
        "        if n % i == 0:   # % c'est modulo, donc c'est si le reste = 0\n",
        "            sum_divisors += i #ca ajoute i a sum_divisors\n",
        "\n",
        "    # Vérification si la somme des diviseurs égale le nombre\n",
        "    return sum_divisors == n\n",
        "    #sum_divisors == n est une condition qui renvoie True ou False : Si sum_divisors est égal à n, cela veut dire que la somme de tous les diviseurs propres est\n",
        "    #exactement le nombre, donc le nombre est parfait → renvoie True.\n",
        "\n",
        "\n",
        "# Exemple d'utilisation\n",
        "print(is_perfect_number(6))    # True, car 1 + 2 + 3 = 6\n",
        "print(is_perfect_number(28))   # True, car 1 + 2 + 4 + 7 + 14 = 28\n",
        "print(is_perfect_number(12))   # False\n",
        "print(is_perfect_number(1))    # False, 1 n'a pas de diviseur propre positif\n"
      ],
      "metadata": {
        "id": "Ld5jSCw6jg9C"
      },
      "execution_count": null,
      "outputs": []
    },
    {
      "cell_type": "markdown",
      "source": [
        "Write a function that returns the min and max values of a list given as parameter."
      ],
      "metadata": {
        "id": "T1aSfV3_lnZ9"
      }
    },
    {
      "cell_type": "code",
      "source": [
        "def min_max(lst):\n",
        "    \"\"\"\n",
        "    Renvoie le minimum et le maximum d'une liste de nombres.\n",
        "\n",
        "    Paramètres :\n",
        "        lst (list): Une liste de nombres (int ou float).\n",
        "\n",
        "    Retourne :\n",
        "        tuple: (minimum, maximum) de la liste.\n",
        "               Renvoie None si la liste est vide.\n",
        "    \"\"\"\n",
        "    # Vérification que la liste n'est pas vide\n",
        "    if not lst:\n",
        "        print(\"Erreur : la liste est vide.\")\n",
        "        return None\n",
        "\n",
        "\n",
        "  # Initialisation du minimum et du maximum avec le premier élément\n",
        "    min_val = lst[0]\n",
        "    max_val = lst[0]\n",
        "  # Parcours de tous les éléments de la liste\n",
        "    for num in lst:\n",
        "        # Vérification si l'élément est plus petit que le minimum actuel\n",
        "        if num < min_val:\n",
        "            min_val = num\n",
        "\n",
        "        # Vérification si l'élément est plus grand que le maximum actuel\n",
        "        if num > max_val:\n",
        "            max_val = num\n",
        "\n",
        "    # Retourner les valeurs minimum et maximum sous forme de tuple\n",
        "    return (min_val, max_val)\n",
        "\n",
        "\n",
        "# Exemple d'utilisation\n",
        "liste = [5, 2, 9, 1, 7, 3]\n",
        "resultat = min_max(liste)\n",
        "print(\"Minimum :\", resultat[0])\n",
        "print(\"Maximum :\", resultat[1])\n"
      ],
      "metadata": {
        "colab": {
          "base_uri": "https://localhost:8080/"
        },
        "id": "61LFCnkVmZoj",
        "outputId": "faa47017-533f-4244-a98f-8efcfb2714a4"
      },
      "execution_count": null,
      "outputs": [
        {
          "output_type": "stream",
          "name": "stdout",
          "text": [
            "Minimum : 1\n",
            "Maximum : 9\n"
          ]
        }
      ]
    },
    {
      "cell_type": "markdown",
      "source": [
        "Write a function that checks if a list given as parameter is a Fibonacci\n",
        "sequence."
      ],
      "metadata": {
        "id": "eF8XtmHutbQn"
      }
    },
    {
      "cell_type": "code",
      "source": [
        "def is_fibonacci_sequence(lst):\n",
        "    # Une suite de Fibonacci a au moins 3 éléments\n",
        "    if len(lst) < 3:\n",
        "        return False\n",
        "\n",
        "    # Vérifier que chaque terme est la somme des deux précédents\n",
        "    for i in range(2, len(lst)):\n",
        "        if lst[i] != lst[i - 1] + lst[i - 2]:\n",
        "            return False\n",
        "\n",
        "    return True\n",
        "\n",
        "# Exemple d'utilisation\n",
        "print(is_fibonacci_sequence([0, 1, 1, 2, 3, 5, 8]))   # True\n",
        "print(is_fibonacci_sequence([2, 4, 6, 10]))           # False\n",
        "print(is_fibonacci_sequence([1, 1, 2, 3, 5, 9]))      # False\n"
      ],
      "metadata": {
        "colab": {
          "base_uri": "https://localhost:8080/"
        },
        "id": "gYnU7c1tteuf",
        "outputId": "381477e9-df5b-4fb9-e4b4-e145327a7215"
      },
      "execution_count": 1,
      "outputs": [
        {
          "output_type": "stream",
          "name": "stdout",
          "text": [
            "True\n",
            "True\n",
            "False\n"
          ]
        }
      ]
    },
    {
      "cell_type": "markdown",
      "source": [
        "Write a function that takes as input a two-dimensional list and computes the\n",
        "average for each row in the list. The function should return a list containing\n",
        "the average value of each row."
      ],
      "metadata": {
        "id": "jNKNwp6_zcXa"
      }
    },
    {
      "cell_type": "code",
      "source": [
        "def avg_ligne_matrix(matrix) :\n",
        "   averages = []\n",
        "\n",
        "   for row in matrix :\n",
        "      moyenne = sum(row)/len(row)\n",
        "      averages.append(moyenne)\n",
        "   return averages\n",
        "\n",
        "mat = [[1,2,0],[2,0,4],[1,8,0]]\n",
        "print(avg_ligne_matrix(mat))\n",
        "\n",
        "\n"
      ],
      "metadata": {
        "colab": {
          "base_uri": "https://localhost:8080/"
        },
        "id": "dQLYtiH8ze9h",
        "outputId": "eb94777c-32ab-45c8-a36d-3ede3661e958"
      },
      "execution_count": 5,
      "outputs": [
        {
          "output_type": "stream",
          "name": "stdout",
          "text": [
            "[1.0, 2.0, 3.0]\n"
          ]
        }
      ]
    }
  ]
}